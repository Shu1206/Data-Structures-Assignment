{
  "cells": [
    {
      "cell_type": "markdown",
      "metadata": {
        "id": "vIW2Mdy8gvY7"
      },
      "source": [
        "1. Discuss string slicing and provide examples.\n",
        "=> String slicing in python is a way to access certain characters or part of a string.\n",
        "To perform string slicing we use list indexing\n",
        "Here's an example"
      ]
    },
    {
      "cell_type": "code",
      "execution_count": 14,
      "metadata": {
        "colab": {
          "base_uri": "https://localhost:8080/",
          "height": 36
        },
        "id": "xWgCLNF_geP5",
        "outputId": "74dcaea7-2b27-422d-f651-af01d1029265"
      },
      "outputs": [
        {
          "data": {
            "text/plain": [
              "'Today'"
            ]
          },
          "execution_count": 14,
          "metadata": {},
          "output_type": "execute_result"
        }
      ],
      "source": [
        "s = \"Today is Monday\"\n",
        "s[0:5]"
      ]
    },
    {
      "cell_type": "code",
      "execution_count": 15,
      "metadata": {
        "colab": {
          "base_uri": "https://localhost:8080/",
          "height": 36
        },
        "id": "uuKHBPMVjfvy",
        "outputId": "69e51573-b28a-4da1-a493-d78ab3e7b9a9"
      },
      "outputs": [
        {
          "data": {
            "text/plain": [
              "'02468'"
            ]
          },
          "execution_count": 15,
          "metadata": {},
          "output_type": "execute_result"
        }
      ],
      "source": [
        "n = \"0123456789\"\n",
        "n[0::2] # This will print the string with a step value of 2\n"
      ]
    },
    {
      "cell_type": "code",
      "execution_count": 16,
      "metadata": {
        "colab": {
          "base_uri": "https://localhost:8080/",
          "height": 36
        },
        "id": "pL9uXpR5j8aK",
        "outputId": "118a7b1a-400f-4eaa-d26c-30c55373ba13"
      },
      "outputs": [
        {
          "data": {
            "text/plain": [
              "'9876543210'"
            ]
          },
          "execution_count": 16,
          "metadata": {},
          "output_type": "execute_result"
        }
      ],
      "source": [
        "n[::-1] # This will print the string in reverse"
      ]
    },
    {
      "cell_type": "markdown",
      "metadata": {
        "id": "_C6cpp3eyrtw"
      },
      "source": [
        "2. Explain the key features of lists in Python. => Lists in python are ordered and mutable collection of elements, that can cont such as string, integer, float, boolean etc. Lists are mutable meaning that you can add, remove, or modify elements within a list using indexing and slicing, They are good for storing data that could change.\n"
      ]
    },
    {
      "cell_type": "code",
      "execution_count": 17,
      "metadata": {
        "id": "aNimASbA-aRz"
      },
      "outputs": [
        {
          "data": {
            "text/plain": [
              "'bhindi'"
            ]
          },
          "execution_count": 17,
          "metadata": {},
          "output_type": "execute_result"
        }
      ],
      "source": [
        "# 3. Describe how to access modify and delete elements in a list with examples.\n",
        "fav_dish = [\"bhindi\", \"paneer\", \"pav bhaji\"]\n",
        "fav_dish[0] # This will access the first item"
      ]
    },
    {
      "cell_type": "code",
      "execution_count": 2,
      "metadata": {},
      "outputs": [
        {
          "data": {
            "text/plain": [
              "['bhindi', 'paneer', 'pav bhaji', 'chole']"
            ]
          },
          "execution_count": 2,
          "metadata": {},
          "output_type": "execute_result"
        }
      ],
      "source": [
        "fav_dish = [\"bhindi\", \"paneer\", \"pav bhaji\"] \n",
        "fav_dish.append(\"chole\") # This will add a new item\n",
        "fav_dish "
      ]
    },
    {
      "cell_type": "code",
      "execution_count": 3,
      "metadata": {},
      "outputs": [
        {
          "data": {
            "text/plain": [
              "['paneer', 'pav bhaji', 'chole']"
            ]
          },
          "execution_count": 3,
          "metadata": {},
          "output_type": "execute_result"
        }
      ],
      "source": [
        "del fav_dish[0] # This will delete bhindi\n",
        "fav_dish"
      ]
    },
    {
      "cell_type": "markdown",
      "metadata": {},
      "source": [
        "4. Compare and contrast tuples and lists with examples.\n",
        "=> Tuples are basically immutable lists, but once created item cannot be changed. Tuples provide secure way to store your data. \n",
        "On the other hand List allows modification of data, Storing a varying data is possible here.\n",
        "Tuples can be accessed with indexing and slicing aswell.\n",
        "Here's an example"
      ]
    },
    {
      "cell_type": "code",
      "execution_count": 5,
      "metadata": {},
      "outputs": [
        {
          "data": {
            "text/plain": [
              "(10, 15, 20)"
            ]
          },
          "execution_count": 5,
          "metadata": {},
          "output_type": "execute_result"
        }
      ],
      "source": [
        "t = (10,12.5,15,17.5,20)\n",
        "t[::2]"
      ]
    },
    {
      "cell_type": "code",
      "execution_count": 6,
      "metadata": {},
      "outputs": [
        {
          "ename": "TypeError",
          "evalue": "'tuple' object does not support item assignment",
          "output_type": "error",
          "traceback": [
            "\u001b[1;31m---------------------------------------------------------------------------\u001b[0m",
            "\u001b[1;31mTypeError\u001b[0m                                 Traceback (most recent call last)",
            "Cell \u001b[1;32mIn[6], line 1\u001b[0m\n\u001b[1;32m----> 1\u001b[0m \u001b[43mt\u001b[49m\u001b[43m[\u001b[49m\u001b[38;5;241;43m0\u001b[39;49m\u001b[43m]\u001b[49m \u001b[38;5;241m=\u001b[39m \u001b[38;5;241m12\u001b[39m\n",
            "\u001b[1;31mTypeError\u001b[0m: 'tuple' object does not support item assignment"
          ]
        }
      ],
      "source": [
        "t[0] = 12 # This will give error cause tuple is immutable"
      ]
    },
    {
      "cell_type": "markdown",
      "metadata": {},
      "source": [
        "5. Describe the key features of sets and provide examples of their uses. \n",
        "=> Sets are defined as Unordered collection of unique elements stored inside it.\n",
        "You can find if an item exists in a set or find the difference between them. \n",
        "You cannot use indexing since the items are unordered\n",
        "Example ->> Sets can be used to find Unique cities of customers/employees"
      ]
    },
    {
      "cell_type": "code",
      "execution_count": 1,
      "metadata": {},
      "outputs": [
        {
          "data": {
            "text/plain": [
              "{'Delhi', 'Lucknow', 'Mumbai', 'Pune'}"
            ]
          },
          "execution_count": 1,
          "metadata": {},
          "output_type": "execute_result"
        }
      ],
      "source": [
        "# Example\n",
        "set = {\"Pune\" , \"Delhi\" , \"Delhi\" , \"Mumbai\" , \"Pune\" , \"Lucknow\"}\n",
        "set "
      ]
    },
    {
      "cell_type": "markdown",
      "metadata": {},
      "source": [
        "6. Discuss the use cases of tuples and sets in Python programming.\n",
        "=> Tuples are usually used on the cases where we want to store a data similar to lists that is not supposed to be modified/mutate and when you're aware about the exact number of elements you need to store in the data structure. They are also used to store multiple items in single variable. \n",
        "Example: Storing a transaction detail, since data cannot be modified it won't be wrong\n",
        "\n",
        "Sets however are used to store unique elements that are supposed to be immutable. Its also efficient in data where you have to find if an item exists in a set, or between 2 different sets.\n",
        "Example: Storing Employee id in a company data "
      ]
    },
    {
      "cell_type": "markdown",
      "metadata": {},
      "source": [
        "7. Describe how to add, modify, and delete items in a dictionary with examples.\n",
        "=> Example: Consider a dictionary storing online order details"
      ]
    },
    {
      "cell_type": "code",
      "execution_count": 2,
      "metadata": {},
      "outputs": [
        {
          "data": {
            "text/plain": [
              "{'ID': '1001', 'Price': '500', 'Name': 'Phillips LED Bulb'}"
            ]
          },
          "execution_count": 2,
          "metadata": {},
          "output_type": "execute_result"
        }
      ],
      "source": [
        "dic = {\"ID\" : \"1001\", \"Price\" : \"500\", \"Name\" : \"Phillips LED Bulb\"}\n",
        "dic"
      ]
    },
    {
      "cell_type": "code",
      "execution_count": 4,
      "metadata": {},
      "outputs": [
        {
          "data": {
            "text/plain": [
              "{'ID': '1001',\n",
              " 'Price': '500',\n",
              " 'Name': 'Phillips LED Bulb',\n",
              " 'Date': '20-5-2024'}"
            ]
          },
          "execution_count": 4,
          "metadata": {},
          "output_type": "execute_result"
        }
      ],
      "source": [
        "dic[\"Date\"] = \"20-5-2024\" # This will add a new key value pair\n",
        "dic"
      ]
    },
    {
      "cell_type": "code",
      "execution_count": 5,
      "metadata": {},
      "outputs": [
        {
          "data": {
            "text/plain": [
              "{'ID': '1001',\n",
              " 'Price': '500',\n",
              " 'Name': 'Phillips LED Bulb',\n",
              " 'Date': '10-8-2024'}"
            ]
          },
          "execution_count": 5,
          "metadata": {},
          "output_type": "execute_result"
        }
      ],
      "source": [
        "dic[\"Date\"] = \"10-8-2024\" # This will update the value of key \"Date\"\n",
        "dic "
      ]
    },
    {
      "cell_type": "code",
      "execution_count": 6,
      "metadata": {},
      "outputs": [
        {
          "data": {
            "text/plain": [
              "{'ID': '1001', 'Price': '500', 'Name': 'Phillips LED Bulb'}"
            ]
          },
          "execution_count": 6,
          "metadata": {},
          "output_type": "execute_result"
        }
      ],
      "source": [
        "dic.pop(\"Date\") # This will remove the key\n",
        "dic"
      ]
    },
    {
      "cell_type": "markdown",
      "metadata": {},
      "source": [
        "8. Discuss the importance of dictionary keys being immutable and provide examples.\n",
        "=> Its important for dictionary keys to be immutable because if it was mutable it would be of hashable type, which means changing the key will make value inaccessible.\n",
        "Dictionary key can be only be a string, number.\n",
        "\n",
        "Example:"
      ]
    },
    {
      "cell_type": "code",
      "execution_count": 7,
      "metadata": {},
      "outputs": [
        {
          "ename": "TypeError",
          "evalue": "unhashable type: 'list'",
          "output_type": "error",
          "traceback": [
            "\u001b[1;31m---------------------------------------------------------------------------\u001b[0m",
            "\u001b[1;31mTypeError\u001b[0m                                 Traceback (most recent call last)",
            "Cell \u001b[1;32mIn[7], line 1\u001b[0m\n\u001b[1;32m----> 1\u001b[0m dic1 \u001b[38;5;241m=\u001b[39m {[\u001b[38;5;241m1\u001b[39m,\u001b[38;5;241m2\u001b[39m]:\u001b[38;5;124m\"\u001b[39m\u001b[38;5;124mhi\u001b[39m\u001b[38;5;124m\"\u001b[39m}\n",
            "\u001b[1;31mTypeError\u001b[0m: unhashable type: 'list'"
          ]
        }
      ],
      "source": [
        "dic1 = {[1,2]:\"hi\"}"
      ]
    },
    {
      "cell_type": "code",
      "execution_count": 8,
      "metadata": {},
      "outputs": [
        {
          "ename": "TypeError",
          "evalue": "unhashable type: 'set'",
          "output_type": "error",
          "traceback": [
            "\u001b[1;31m---------------------------------------------------------------------------\u001b[0m",
            "\u001b[1;31mTypeError\u001b[0m                                 Traceback (most recent call last)",
            "Cell \u001b[1;32mIn[8], line 1\u001b[0m\n\u001b[1;32m----> 1\u001b[0m dic1 \u001b[38;5;241m=\u001b[39m {{\u001b[38;5;241m1\u001b[39m,\u001b[38;5;241m2\u001b[39m}:\u001b[38;5;124m\"\u001b[39m\u001b[38;5;124mbye\u001b[39m\u001b[38;5;124m\"\u001b[39m}\n",
            "\u001b[1;31mTypeError\u001b[0m: unhashable type: 'set'"
          ]
        }
      ],
      "source": [
        "dic1 = {{1,2}:\"bye\"}"
      ]
    }
  ],
  "metadata": {
    "colab": {
      "provenance": []
    },
    "kernelspec": {
      "display_name": "Python 3",
      "name": "python3"
    },
    "language_info": {
      "codemirror_mode": {
        "name": "ipython",
        "version": 3
      },
      "file_extension": ".py",
      "mimetype": "text/x-python",
      "name": "python",
      "nbconvert_exporter": "python",
      "pygments_lexer": "ipython3",
      "version": "3.11.1"
    }
  },
  "nbformat": 4,
  "nbformat_minor": 0
}
